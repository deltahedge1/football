{
 "cells": [
  {
   "cell_type": "code",
   "execution_count": 28,
   "metadata": {
    "collapsed": true
   },
   "outputs": [],
   "source": [
    "import requests\n",
    "from bs4 import BeautifulSoup\n",
    "import re"
   ]
  },
  {
   "cell_type": "code",
   "execution_count": 55,
   "metadata": {},
   "outputs": [
    {
     "data": {
      "text/plain": [
       "200"
      ]
     },
     "execution_count": 55,
     "metadata": {},
     "output_type": "execute_result"
    }
   ],
   "source": [
    "url = r\"http://www.football-data.co.uk/englandm.php\"\n",
    "r = requests.get(url)\n",
    "r.status_code"
   ]
  },
  {
   "cell_type": "code",
   "execution_count": 71,
   "metadata": {},
   "outputs": [
    {
     "data": {
      "text/plain": [
       "[['mmz4281/1718/E0.csv', 'Premier League'],\n",
       " ['mmz4281/1718/E1.csv', 'Championship'],\n",
       " ['mmz4281/1718/E2.csv', 'League 1'],\n",
       " ['mmz4281/1718/E3.csv', 'League 2'],\n",
       " ['mmz4281/1718/EC.csv', 'Conference'],\n",
       " ['mmz4281/1617/E0.csv', 'Premier League'],\n",
       " ['mmz4281/1617/E1.csv', 'Championship'],\n",
       " ['mmz4281/1617/E2.csv', 'League 1'],\n",
       " ['mmz4281/1617/E3.csv', 'League 2'],\n",
       " ['mmz4281/1617/EC.csv', 'Conference'],\n",
       " ['mmz4281/1516/E0.csv', 'Premier League'],\n",
       " ['mmz4281/1516/E1.csv', 'Championship'],\n",
       " ['mmz4281/1516/E2.csv', 'League 1'],\n",
       " ['mmz4281/1516/E3.csv', 'League 2'],\n",
       " ['mmz4281/1516/EC.csv', 'Conference'],\n",
       " ['mmz4281/1415/E0.csv', 'Premier League'],\n",
       " ['mmz4281/1415/E1.csv', 'Championship'],\n",
       " ['mmz4281/1415/E2.csv', 'League 1'],\n",
       " ['mmz4281/1415/E3.csv', 'League 2'],\n",
       " ['mmz4281/1415/EC.csv', 'Conference'],\n",
       " ['mmz4281/1314/E0.csv', 'Premier League'],\n",
       " ['mmz4281/1314/E1.csv', 'Championship'],\n",
       " ['mmz4281/1314/E2.csv', 'League 1'],\n",
       " ['mmz4281/1314/E3.csv', 'League 2'],\n",
       " ['mmz4281/1314/EC.csv', 'Conference'],\n",
       " ['mmz4281/1213/E0.csv', 'Premier League'],\n",
       " ['mmz4281/1213/E1.csv', 'Championship'],\n",
       " ['mmz4281/1213/E2.csv', 'League 1'],\n",
       " ['mmz4281/1213/E3.csv', 'League 2'],\n",
       " ['mmz4281/1213/EC.csv', 'Conference'],\n",
       " ['mmz4281/1112/E0.csv', 'Premier League'],\n",
       " ['mmz4281/1112/E1.csv', 'Championship'],\n",
       " ['mmz4281/1112/E2.csv', 'League 1'],\n",
       " ['mmz4281/1112/E3.csv', 'League 2'],\n",
       " ['mmz4281/1112/EC.csv', 'Conference'],\n",
       " ['mmz4281/1011/E0.csv', 'Premier League'],\n",
       " ['mmz4281/1011/E1.csv', 'Championship'],\n",
       " ['mmz4281/1011/E2.csv', 'League 1'],\n",
       " ['mmz4281/1011/E3.csv', 'League 2'],\n",
       " ['mmz4281/1011/EC.csv', 'Conference'],\n",
       " ['mmz4281/0910/E0.csv', 'Premier League'],\n",
       " ['mmz4281/0910/E1.csv', 'Championship'],\n",
       " ['mmz4281/0910/E2.csv', 'League 1'],\n",
       " ['mmz4281/0910/E3.csv', 'League 2'],\n",
       " ['mmz4281/0910/EC.csv', 'Conference'],\n",
       " ['mmz4281/0809/E0.csv', 'Premier League'],\n",
       " ['mmz4281/0809/E1.csv', 'Championship'],\n",
       " ['mmz4281/0809/E2.csv', 'League 1'],\n",
       " ['mmz4281/0809/E3.csv', 'League 2'],\n",
       " ['mmz4281/0809/EC.csv', 'Conference'],\n",
       " ['mmz4281/0708/E0.csv', 'Premier League'],\n",
       " ['mmz4281/0708/E1.csv', 'Championship'],\n",
       " ['mmz4281/0708/E2.csv', 'League 1'],\n",
       " ['mmz4281/0708/E3.csv', 'League 2'],\n",
       " ['mmz4281/0708/EC.csv', 'Conference'],\n",
       " ['mmz4281/0607/E0.csv', 'Premier League'],\n",
       " ['mmz4281/0607/E1.csv', 'Championship'],\n",
       " ['mmz4281/0607/E2.csv', 'League 1'],\n",
       " ['mmz4281/0607/E3.csv', 'League 2'],\n",
       " ['mmz4281/0607/EC.csv', 'Conference'],\n",
       " ['mmz4281/0506/E0.csv', 'Premier League'],\n",
       " ['mmz4281/0506/E1.csv', 'Championship'],\n",
       " ['mmz4281/0506/E2.csv', 'League 1'],\n",
       " ['mmz4281/0506/E3.csv', 'League 2'],\n",
       " ['mmz4281/0506/EC.csv', 'Conference'],\n",
       " ['mmz4281/0405/E0.csv', 'Premier League'],\n",
       " ['mmz4281/0405/E1.csv', 'Championship'],\n",
       " ['mmz4281/0405/E2.csv', 'League 1'],\n",
       " ['mmz4281/0405/E3.csv', 'League 2'],\n",
       " ['mmz4281/0304/E0.csv', 'Premier League'],\n",
       " ['mmz4281/0304/E1.csv', 'Division 1'],\n",
       " ['mmz4281/0304/E2.csv', 'Division 2'],\n",
       " ['mmz4281/0304/E3.csv', 'Division 3'],\n",
       " ['mmz4281/0203/E0.csv', 'Premier League'],\n",
       " ['mmz4281/0203/E1.csv', 'Division 1'],\n",
       " ['mmz4281/0203/E2.csv', 'Division 2'],\n",
       " ['mmz4281/0203/E3.csv', 'Division 3'],\n",
       " ['mmz4281/0102/E0.csv', 'Premier League'],\n",
       " ['mmz4281/0102/E1.csv', 'Division 1'],\n",
       " ['mmz4281/0102/E2.csv', 'Division 2'],\n",
       " ['mmz4281/0102/E3.csv', 'Division 3'],\n",
       " ['mmz4281/0001/E0.csv', 'Premier League'],\n",
       " ['mmz4281/0001/E1.csv', 'Division 1'],\n",
       " ['mmz4281/0001/E2.csv', 'Division 2'],\n",
       " ['mmz4281/0001/E3.csv', 'Division 3'],\n",
       " ['mmz4281/9900/E0.csv', 'Premier League'],\n",
       " ['mmz4281/9900/E1.csv', 'Division 1'],\n",
       " ['mmz4281/9900/E2.csv', 'Division 2'],\n",
       " ['mmz4281/9900/E3.csv', 'Division 3'],\n",
       " ['mmz4281/9899/E0.csv', 'Premier League'],\n",
       " ['mmz4281/9899/E1.csv', 'Division 1'],\n",
       " ['mmz4281/9899/E2.csv', 'Division 2'],\n",
       " ['mmz4281/9899/E3.csv', 'Division 3'],\n",
       " ['mmz4281/9798/E0.csv', 'Premier League'],\n",
       " ['mmz4281/9798/E1.csv', 'Division 1'],\n",
       " ['mmz4281/9798/E2.csv', 'Division 2'],\n",
       " ['mmz4281/9798/E3.csv', 'Division 3'],\n",
       " ['mmz4281/9697/E0.csv', 'Premier League'],\n",
       " ['mmz4281/9697/E1.csv', 'Division 1'],\n",
       " ['mmz4281/9697/E2.csv', 'Division 2'],\n",
       " ['mmz4281/9697/E3.csv', 'Division 3'],\n",
       " ['mmz4281/9596/E0.csv', 'Premier League'],\n",
       " ['mmz4281/9596/E1.csv', 'Division 1'],\n",
       " ['mmz4281/9596/E2.csv', 'Division 2'],\n",
       " ['mmz4281/9596/E3.csv', 'Division 3'],\n",
       " ['mmz4281/9495/E0.csv', 'Premier League'],\n",
       " ['mmz4281/9495/E1.csv', 'Division 1'],\n",
       " ['mmz4281/9495/E2.csv', 'Division 2'],\n",
       " ['mmz4281/9495/E3.csv', 'Division 3'],\n",
       " ['mmz4281/9394/E0.csv', 'Premier League'],\n",
       " ['mmz4281/9394/E1.csv', 'Division 1'],\n",
       " ['mmz4281/9394/E2.csv', 'Division 2'],\n",
       " ['mmz4281/9394/E3.csv', 'Division 3']]"
      ]
     },
     "execution_count": 71,
     "metadata": {},
     "output_type": "execute_result"
    }
   ],
   "source": [
    "sauce = r.text\n",
    "soup = BeautifulSoup(sauce, \"lxml\")\n",
    "\n",
    "href = soup.find_all(\"a\")\n",
    "\n",
    "csv = []\n",
    "for link in href:\n",
    "    test = len(re.findall(\"\\.csv\",str(link['href'])))\n",
    "    if test != 0:\n",
    "        temp = [str(link['href']), str(link.text)]\n",
    "        csv.append(temp)\n",
    "\n",
    "csv"
   ]
  },
  {
   "cell_type": "code",
   "execution_count": null,
   "metadata": {},
   "outputs": [
    {
     "name": "stdout",
     "output_type": "stream",
     "text": [
      "./PremierLeaguemmz42811718E0.csv\n",
      "./Championshipmmz42811718E1.csv\n",
      "./League1mmz42811718E2.csv\n",
      "./League2mmz42811718E3.csv\n",
      "./Conferencemmz42811718EC.csv\n",
      "./PremierLeaguemmz42811617E0.csv\n",
      "./Championshipmmz42811617E1.csv\n",
      "./League1mmz42811617E2.csv\n",
      "./League2mmz42811617E3.csv\n",
      "./Conferencemmz42811617EC.csv\n",
      "./PremierLeaguemmz42811516E0.csv\n",
      "./Championshipmmz42811516E1.csv\n",
      "./League1mmz42811516E2.csv\n",
      "./League2mmz42811516E3.csv\n",
      "./Conferencemmz42811516EC.csv\n",
      "./PremierLeaguemmz42811415E0.csv\n",
      "./Championshipmmz42811415E1.csv\n",
      "./League1mmz42811415E2.csv\n",
      "./League2mmz42811415E3.csv\n",
      "./Conferencemmz42811415EC.csv\n",
      "./PremierLeaguemmz42811314E0.csv\n",
      "./Championshipmmz42811314E1.csv\n",
      "./League1mmz42811314E2.csv\n",
      "./League2mmz42811314E3.csv\n",
      "./Conferencemmz42811314EC.csv\n",
      "./PremierLeaguemmz42811213E0.csv\n",
      "./Championshipmmz42811213E1.csv\n",
      "./League1mmz42811213E2.csv\n",
      "./League2mmz42811213E3.csv\n",
      "./Conferencemmz42811213EC.csv\n",
      "./PremierLeaguemmz42811112E0.csv\n",
      "./Championshipmmz42811112E1.csv\n",
      "./League1mmz42811112E2.csv\n",
      "./League2mmz42811112E3.csv\n",
      "./Conferencemmz42811112EC.csv\n",
      "./PremierLeaguemmz42811011E0.csv\n",
      "./Championshipmmz42811011E1.csv\n",
      "./League1mmz42811011E2.csv\n",
      "./League2mmz42811011E3.csv\n",
      "./Conferencemmz42811011EC.csv\n",
      "./PremierLeaguemmz42810910E0.csv\n",
      "./Championshipmmz42810910E1.csv\n",
      "./League1mmz42810910E2.csv\n",
      "./League2mmz42810910E3.csv\n",
      "./Conferencemmz42810910EC.csv\n",
      "./PremierLeaguemmz42810809E0.csv\n",
      "./Championshipmmz42810809E1.csv\n",
      "./League1mmz42810809E2.csv\n",
      "./League2mmz42810809E3.csv\n",
      "./Conferencemmz42810809EC.csv\n"
     ]
    }
   ],
   "source": [
    "for i,j in csv:\n",
    "    response = requests.get(r\"http://www.football-data.co.uk/%s\" %i)\n",
    "    file_name = j+i\n",
    "    file_name = \"./\"+file_name.replace(\"/\",\"\").replace(\" \",\"\")\n",
    "    print(file_name)\n",
    "    \n",
    "    with open(file_name, 'wb') as f:\n",
    "        f.write(response.content)\n",
    "        f.close()"
   ]
  },
  {
   "cell_type": "code",
   "execution_count": null,
   "metadata": {
    "collapsed": true
   },
   "outputs": [],
   "source": []
  }
 ],
 "metadata": {
  "kernelspec": {
   "display_name": "Python 3",
   "language": "python",
   "name": "python3"
  },
  "language_info": {
   "codemirror_mode": {
    "name": "ipython",
    "version": 3
   },
   "file_extension": ".py",
   "mimetype": "text/x-python",
   "name": "python",
   "nbconvert_exporter": "python",
   "pygments_lexer": "ipython3",
   "version": "3.6.2"
  }
 },
 "nbformat": 4,
 "nbformat_minor": 2
}
